{
 "cells": [
  {
   "cell_type": "markdown",
   "id": "2cc60833-822e-4866-94ec-941be862612a",
   "metadata": {},
   "source": [
    "### PREPROCESSING AND MODEL EVALUATION"
   ]
  },
  {
   "cell_type": "markdown",
   "id": "20e03f24-ea2c-401c-be3c-199c8a720d43",
   "metadata": {},
   "source": [
    "### Import necessary Libraries"
   ]
  },
  {
   "cell_type": "code",
   "execution_count": 1,
   "id": "a50415da-8f96-48b0-9c52-b3f41aaba740",
   "metadata": {},
   "outputs": [],
   "source": [
    "import pandas as pd\n",
    "import numpy as np\n",
    "import joblib\n",
    "import matplotlib.pyplot as plt\n",
    "import seaborn as sns\n",
    "from sklearn.pipeline import Pipeline\n",
    "from sklearn.linear_model import LogisticRegression\n",
    "from sklearn.svm import SVC\n",
    "from sklearn.compose import ColumnTransformer\n",
    "from sklearn.preprocessing import StandardScaler, OneHotEncoder\n",
    "from sklearn.metrics import accuracy_score, confusion_matrix, classification_report,roc_curve, auc\n",
    "from xgboost import XGBClassifier\n",
    "from sklearn.ensemble import RandomForestClassifier\n",
    "from sklearn.model_selection import RandomizedSearchCV, GridSearchCV, train_test_split, cross_val_score, StratifiedKFold\n",
    "from scipy.stats import randint, uniform\n",
    "from tensorflow.keras.models import Sequential\n",
    "from tensorflow.keras.layers import Dense, Input\n",
    "from tensorflow.keras.optimizers import Adam\n",
    "from scikeras.wrappers import KerasClassifier  "
   ]
  },
  {
   "cell_type": "markdown",
   "id": "b2a1e5bc-d5fe-4252-82e9-75a8bbf842f6",
   "metadata": {},
   "source": [
    "Load saved csv file"
   ]
  },
  {
   "cell_type": "code",
   "execution_count": 2,
   "id": "1556047d-4665-446c-a68a-0db4a684f038",
   "metadata": {},
   "outputs": [],
   "source": [
    "df = pd.read_csv('Telco_Customer_Churn_clean.csv') "
   ]
  },
  {
   "cell_type": "code",
   "execution_count": 3,
   "id": "5fd5a3e5-68d4-4e4b-82b6-098f3980d9ee",
   "metadata": {},
   "outputs": [
    {
     "data": {
      "text/html": [
       "<div>\n",
       "<style scoped>\n",
       "    .dataframe tbody tr th:only-of-type {\n",
       "        vertical-align: middle;\n",
       "    }\n",
       "\n",
       "    .dataframe tbody tr th {\n",
       "        vertical-align: top;\n",
       "    }\n",
       "\n",
       "    .dataframe thead th {\n",
       "        text-align: right;\n",
       "    }\n",
       "</style>\n",
       "<table border=\"1\" class=\"dataframe\">\n",
       "  <thead>\n",
       "    <tr style=\"text-align: right;\">\n",
       "      <th></th>\n",
       "      <th>customerID</th>\n",
       "      <th>gender</th>\n",
       "      <th>SeniorCitizen</th>\n",
       "      <th>Partner</th>\n",
       "      <th>Dependents</th>\n",
       "      <th>tenure</th>\n",
       "      <th>PhoneService</th>\n",
       "      <th>MultipleLines</th>\n",
       "      <th>InternetService</th>\n",
       "      <th>OnlineSecurity</th>\n",
       "      <th>...</th>\n",
       "      <th>DeviceProtection</th>\n",
       "      <th>TechSupport</th>\n",
       "      <th>StreamingTV</th>\n",
       "      <th>StreamingMovies</th>\n",
       "      <th>Contract</th>\n",
       "      <th>PaperlessBilling</th>\n",
       "      <th>PaymentMethod</th>\n",
       "      <th>MonthlyCharges</th>\n",
       "      <th>TotalCharges</th>\n",
       "      <th>Churn</th>\n",
       "    </tr>\n",
       "  </thead>\n",
       "  <tbody>\n",
       "    <tr>\n",
       "      <th>0</th>\n",
       "      <td>7590-VHVEG</td>\n",
       "      <td>Female</td>\n",
       "      <td>0</td>\n",
       "      <td>Yes</td>\n",
       "      <td>No</td>\n",
       "      <td>1</td>\n",
       "      <td>No</td>\n",
       "      <td>No phone service</td>\n",
       "      <td>DSL</td>\n",
       "      <td>No</td>\n",
       "      <td>...</td>\n",
       "      <td>No</td>\n",
       "      <td>No</td>\n",
       "      <td>No</td>\n",
       "      <td>No</td>\n",
       "      <td>Month-to-month</td>\n",
       "      <td>Yes</td>\n",
       "      <td>Electronic check</td>\n",
       "      <td>29.85</td>\n",
       "      <td>29.85</td>\n",
       "      <td>No</td>\n",
       "    </tr>\n",
       "    <tr>\n",
       "      <th>1</th>\n",
       "      <td>5575-GNVDE</td>\n",
       "      <td>Male</td>\n",
       "      <td>0</td>\n",
       "      <td>No</td>\n",
       "      <td>No</td>\n",
       "      <td>34</td>\n",
       "      <td>Yes</td>\n",
       "      <td>No</td>\n",
       "      <td>DSL</td>\n",
       "      <td>Yes</td>\n",
       "      <td>...</td>\n",
       "      <td>Yes</td>\n",
       "      <td>No</td>\n",
       "      <td>No</td>\n",
       "      <td>No</td>\n",
       "      <td>One year</td>\n",
       "      <td>No</td>\n",
       "      <td>Mailed check</td>\n",
       "      <td>56.95</td>\n",
       "      <td>1889.50</td>\n",
       "      <td>No</td>\n",
       "    </tr>\n",
       "    <tr>\n",
       "      <th>2</th>\n",
       "      <td>3668-QPYBK</td>\n",
       "      <td>Male</td>\n",
       "      <td>0</td>\n",
       "      <td>No</td>\n",
       "      <td>No</td>\n",
       "      <td>2</td>\n",
       "      <td>Yes</td>\n",
       "      <td>No</td>\n",
       "      <td>DSL</td>\n",
       "      <td>Yes</td>\n",
       "      <td>...</td>\n",
       "      <td>No</td>\n",
       "      <td>No</td>\n",
       "      <td>No</td>\n",
       "      <td>No</td>\n",
       "      <td>Month-to-month</td>\n",
       "      <td>Yes</td>\n",
       "      <td>Mailed check</td>\n",
       "      <td>53.85</td>\n",
       "      <td>108.15</td>\n",
       "      <td>Yes</td>\n",
       "    </tr>\n",
       "    <tr>\n",
       "      <th>3</th>\n",
       "      <td>7795-CFOCW</td>\n",
       "      <td>Male</td>\n",
       "      <td>0</td>\n",
       "      <td>No</td>\n",
       "      <td>No</td>\n",
       "      <td>45</td>\n",
       "      <td>No</td>\n",
       "      <td>No phone service</td>\n",
       "      <td>DSL</td>\n",
       "      <td>Yes</td>\n",
       "      <td>...</td>\n",
       "      <td>Yes</td>\n",
       "      <td>Yes</td>\n",
       "      <td>No</td>\n",
       "      <td>No</td>\n",
       "      <td>One year</td>\n",
       "      <td>No</td>\n",
       "      <td>Bank transfer (automatic)</td>\n",
       "      <td>42.30</td>\n",
       "      <td>1840.75</td>\n",
       "      <td>No</td>\n",
       "    </tr>\n",
       "    <tr>\n",
       "      <th>4</th>\n",
       "      <td>9237-HQITU</td>\n",
       "      <td>Female</td>\n",
       "      <td>0</td>\n",
       "      <td>No</td>\n",
       "      <td>No</td>\n",
       "      <td>2</td>\n",
       "      <td>Yes</td>\n",
       "      <td>No</td>\n",
       "      <td>Fiber optic</td>\n",
       "      <td>No</td>\n",
       "      <td>...</td>\n",
       "      <td>No</td>\n",
       "      <td>No</td>\n",
       "      <td>No</td>\n",
       "      <td>No</td>\n",
       "      <td>Month-to-month</td>\n",
       "      <td>Yes</td>\n",
       "      <td>Electronic check</td>\n",
       "      <td>70.70</td>\n",
       "      <td>151.65</td>\n",
       "      <td>Yes</td>\n",
       "    </tr>\n",
       "  </tbody>\n",
       "</table>\n",
       "<p>5 rows × 21 columns</p>\n",
       "</div>"
      ],
      "text/plain": [
       "   customerID  gender  SeniorCitizen Partner Dependents  tenure PhoneService  \\\n",
       "0  7590-VHVEG  Female              0     Yes         No       1           No   \n",
       "1  5575-GNVDE    Male              0      No         No      34          Yes   \n",
       "2  3668-QPYBK    Male              0      No         No       2          Yes   \n",
       "3  7795-CFOCW    Male              0      No         No      45           No   \n",
       "4  9237-HQITU  Female              0      No         No       2          Yes   \n",
       "\n",
       "      MultipleLines InternetService OnlineSecurity  ... DeviceProtection  \\\n",
       "0  No phone service             DSL             No  ...               No   \n",
       "1                No             DSL            Yes  ...              Yes   \n",
       "2                No             DSL            Yes  ...               No   \n",
       "3  No phone service             DSL            Yes  ...              Yes   \n",
       "4                No     Fiber optic             No  ...               No   \n",
       "\n",
       "  TechSupport StreamingTV StreamingMovies        Contract PaperlessBilling  \\\n",
       "0          No          No              No  Month-to-month              Yes   \n",
       "1          No          No              No        One year               No   \n",
       "2          No          No              No  Month-to-month              Yes   \n",
       "3         Yes          No              No        One year               No   \n",
       "4          No          No              No  Month-to-month              Yes   \n",
       "\n",
       "               PaymentMethod MonthlyCharges  TotalCharges  Churn  \n",
       "0           Electronic check          29.85         29.85     No  \n",
       "1               Mailed check          56.95       1889.50     No  \n",
       "2               Mailed check          53.85        108.15    Yes  \n",
       "3  Bank transfer (automatic)          42.30       1840.75     No  \n",
       "4           Electronic check          70.70        151.65    Yes  \n",
       "\n",
       "[5 rows x 21 columns]"
      ]
     },
     "execution_count": 3,
     "metadata": {},
     "output_type": "execute_result"
    }
   ],
   "source": [
    "df.head()"
   ]
  },
  {
   "cell_type": "code",
   "execution_count": 4,
   "id": "dd814859-5eb8-4faf-b382-1a7eea5cebeb",
   "metadata": {},
   "outputs": [
    {
     "name": "stdout",
     "output_type": "stream",
     "text": [
      "<class 'pandas.core.frame.DataFrame'>\n",
      "RangeIndex: 6913 entries, 0 to 6912\n",
      "Data columns (total 21 columns):\n",
      " #   Column            Non-Null Count  Dtype  \n",
      "---  ------            --------------  -----  \n",
      " 0   customerID        6913 non-null   object \n",
      " 1   gender            6913 non-null   object \n",
      " 2   SeniorCitizen     6913 non-null   int64  \n",
      " 3   Partner           6913 non-null   object \n",
      " 4   Dependents        6913 non-null   object \n",
      " 5   tenure            6913 non-null   int64  \n",
      " 6   PhoneService      6913 non-null   object \n",
      " 7   MultipleLines     6913 non-null   object \n",
      " 8   InternetService   6913 non-null   object \n",
      " 9   OnlineSecurity    6913 non-null   object \n",
      " 10  OnlineBackup      6913 non-null   object \n",
      " 11  DeviceProtection  6913 non-null   object \n",
      " 12  TechSupport       6913 non-null   object \n",
      " 13  StreamingTV       6913 non-null   object \n",
      " 14  StreamingMovies   6913 non-null   object \n",
      " 15  Contract          6913 non-null   object \n",
      " 16  PaperlessBilling  6913 non-null   object \n",
      " 17  PaymentMethod     6913 non-null   object \n",
      " 18  MonthlyCharges    6913 non-null   float64\n",
      " 19  TotalCharges      6913 non-null   float64\n",
      " 20  Churn             6913 non-null   object \n",
      "dtypes: float64(2), int64(2), object(17)\n",
      "memory usage: 1.1+ MB\n"
     ]
    }
   ],
   "source": [
    "df.info()"
   ]
  },
  {
   "cell_type": "code",
   "execution_count": 5,
   "id": "45bdf1e4-8adb-4900-93cf-b4b9e9fc7fef",
   "metadata": {},
   "outputs": [
    {
     "data": {
      "text/plain": [
       "customerID          0\n",
       "gender              0\n",
       "SeniorCitizen       0\n",
       "Partner             0\n",
       "Dependents          0\n",
       "tenure              0\n",
       "PhoneService        0\n",
       "MultipleLines       0\n",
       "InternetService     0\n",
       "OnlineSecurity      0\n",
       "OnlineBackup        0\n",
       "DeviceProtection    0\n",
       "TechSupport         0\n",
       "StreamingTV         0\n",
       "StreamingMovies     0\n",
       "Contract            0\n",
       "PaperlessBilling    0\n",
       "PaymentMethod       0\n",
       "MonthlyCharges      0\n",
       "TotalCharges        0\n",
       "Churn               0\n",
       "dtype: int64"
      ]
     },
     "execution_count": 5,
     "metadata": {},
     "output_type": "execute_result"
    }
   ],
   "source": [
    "df.isnull().sum()"
   ]
  },
  {
   "cell_type": "code",
   "execution_count": 6,
   "id": "4e21e874-b9f7-4311-9804-5dfa5eaeec42",
   "metadata": {},
   "outputs": [
    {
     "data": {
      "text/html": [
       "<div>\n",
       "<style scoped>\n",
       "    .dataframe tbody tr th:only-of-type {\n",
       "        vertical-align: middle;\n",
       "    }\n",
       "\n",
       "    .dataframe tbody tr th {\n",
       "        vertical-align: top;\n",
       "    }\n",
       "\n",
       "    .dataframe thead th {\n",
       "        text-align: right;\n",
       "    }\n",
       "</style>\n",
       "<table border=\"1\" class=\"dataframe\">\n",
       "  <thead>\n",
       "    <tr style=\"text-align: right;\">\n",
       "      <th></th>\n",
       "      <th>SeniorCitizen</th>\n",
       "      <th>tenure</th>\n",
       "      <th>MonthlyCharges</th>\n",
       "      <th>TotalCharges</th>\n",
       "    </tr>\n",
       "  </thead>\n",
       "  <tbody>\n",
       "    <tr>\n",
       "      <th>count</th>\n",
       "      <td>6913.000000</td>\n",
       "      <td>6913.000000</td>\n",
       "      <td>6913.000000</td>\n",
       "      <td>6913.000000</td>\n",
       "    </tr>\n",
       "    <tr>\n",
       "      <th>mean</th>\n",
       "      <td>0.159988</td>\n",
       "      <td>31.797772</td>\n",
       "      <td>64.056575</td>\n",
       "      <td>2203.584992</td>\n",
       "    </tr>\n",
       "    <tr>\n",
       "      <th>std</th>\n",
       "      <td>0.366622</td>\n",
       "      <td>24.412594</td>\n",
       "      <td>29.887460</td>\n",
       "      <td>2210.226419</td>\n",
       "    </tr>\n",
       "    <tr>\n",
       "      <th>min</th>\n",
       "      <td>0.000000</td>\n",
       "      <td>0.000000</td>\n",
       "      <td>18.250000</td>\n",
       "      <td>18.800000</td>\n",
       "    </tr>\n",
       "    <tr>\n",
       "      <th>25%</th>\n",
       "      <td>0.000000</td>\n",
       "      <td>8.000000</td>\n",
       "      <td>34.800000</td>\n",
       "      <td>385.900000</td>\n",
       "    </tr>\n",
       "    <tr>\n",
       "      <th>50%</th>\n",
       "      <td>0.000000</td>\n",
       "      <td>28.000000</td>\n",
       "      <td>70.050000</td>\n",
       "      <td>1357.100000</td>\n",
       "    </tr>\n",
       "    <tr>\n",
       "      <th>75%</th>\n",
       "      <td>0.000000</td>\n",
       "      <td>54.000000</td>\n",
       "      <td>89.300000</td>\n",
       "      <td>3597.500000</td>\n",
       "    </tr>\n",
       "    <tr>\n",
       "      <th>max</th>\n",
       "      <td>1.000000</td>\n",
       "      <td>72.000000</td>\n",
       "      <td>118.750000</td>\n",
       "      <td>8672.450000</td>\n",
       "    </tr>\n",
       "  </tbody>\n",
       "</table>\n",
       "</div>"
      ],
      "text/plain": [
       "       SeniorCitizen       tenure  MonthlyCharges  TotalCharges\n",
       "count    6913.000000  6913.000000     6913.000000   6913.000000\n",
       "mean        0.159988    31.797772       64.056575   2203.584992\n",
       "std         0.366622    24.412594       29.887460   2210.226419\n",
       "min         0.000000     0.000000       18.250000     18.800000\n",
       "25%         0.000000     8.000000       34.800000    385.900000\n",
       "50%         0.000000    28.000000       70.050000   1357.100000\n",
       "75%         0.000000    54.000000       89.300000   3597.500000\n",
       "max         1.000000    72.000000      118.750000   8672.450000"
      ]
     },
     "execution_count": 6,
     "metadata": {},
     "output_type": "execute_result"
    }
   ],
   "source": [
    "df.describe()"
   ]
  },
  {
   "cell_type": "code",
   "execution_count": 7,
   "id": "13448031-1e0d-4d83-88e4-530bf56e5bdb",
   "metadata": {},
   "outputs": [],
   "source": [
    "# Step 2: Define features\n",
    "categorical_features = ['gender', 'SeniorCitizen', 'Partner', 'Dependents', 'PhoneService', \n",
    "                        'MultipleLines', 'InternetService', 'OnlineSecurity', 'OnlineBackup', \n",
    "                        'DeviceProtection', 'TechSupport', 'StreamingTV', 'StreamingMovies', \n",
    "                        'Contract', 'PaperlessBilling', 'PaymentMethod']\n",
    "numerical_features = ['tenure', 'MonthlyCharges', 'TotalCharges']"
   ]
  },
  {
   "cell_type": "code",
   "execution_count": 8,
   "id": "9944a1b3-c379-4418-bd76-c5c7e5aec178",
   "metadata": {},
   "outputs": [],
   "source": [
    "# Separate the target variable (Churn) into a new Series\n",
    "y = df['Churn'].map({'No': 0, 'Yes': 1})\n",
    "\n",
    "# Create a feature matrix (X) by dropping 'Churn' and 'customerID' columns\n",
    "X = df.drop(['Churn', 'customerID'], axis=1)"
   ]
  },
  {
   "cell_type": "code",
   "execution_count": 9,
   "id": "2bec389a-2828-4bfa-bbc4-127543552097",
   "metadata": {},
   "outputs": [
    {
     "data": {
      "text/plain": [
       "False"
      ]
     },
     "execution_count": 9,
     "metadata": {},
     "output_type": "execute_result"
    }
   ],
   "source": [
    "y.isnull().any()"
   ]
  },
  {
   "cell_type": "code",
   "execution_count": 10,
   "id": "cbebc137-ad5f-4bc7-b7e0-0c17a234aac1",
   "metadata": {},
   "outputs": [
    {
     "data": {
      "text/plain": [
       "gender              False\n",
       "SeniorCitizen       False\n",
       "Partner             False\n",
       "Dependents          False\n",
       "tenure              False\n",
       "PhoneService        False\n",
       "MultipleLines       False\n",
       "InternetService     False\n",
       "OnlineSecurity      False\n",
       "OnlineBackup        False\n",
       "DeviceProtection    False\n",
       "TechSupport         False\n",
       "StreamingTV         False\n",
       "StreamingMovies     False\n",
       "Contract            False\n",
       "PaperlessBilling    False\n",
       "PaymentMethod       False\n",
       "MonthlyCharges      False\n",
       "TotalCharges        False\n",
       "dtype: bool"
      ]
     },
     "execution_count": 10,
     "metadata": {},
     "output_type": "execute_result"
    }
   ],
   "source": [
    "X.isnull().any()"
   ]
  },
  {
   "cell_type": "code",
   "execution_count": 11,
   "id": "8bd6b209-6ad9-4f51-a1b4-1a0d9f38bea8",
   "metadata": {},
   "outputs": [
    {
     "data": {
      "text/plain": [
       "gender               object\n",
       "SeniorCitizen         int64\n",
       "Partner              object\n",
       "Dependents           object\n",
       "tenure                int64\n",
       "PhoneService         object\n",
       "MultipleLines        object\n",
       "InternetService      object\n",
       "OnlineSecurity       object\n",
       "OnlineBackup         object\n",
       "DeviceProtection     object\n",
       "TechSupport          object\n",
       "StreamingTV          object\n",
       "StreamingMovies      object\n",
       "Contract             object\n",
       "PaperlessBilling     object\n",
       "PaymentMethod        object\n",
       "MonthlyCharges      float64\n",
       "TotalCharges        float64\n",
       "dtype: object"
      ]
     },
     "execution_count": 11,
     "metadata": {},
     "output_type": "execute_result"
    }
   ],
   "source": [
    "X.dtypes"
   ]
  },
  {
   "cell_type": "code",
   "execution_count": 12,
   "id": "8584cd99-0a3a-4d41-9104-1a878da76cff",
   "metadata": {},
   "outputs": [
    {
     "data": {
      "text/plain": [
       "dtype('int64')"
      ]
     },
     "execution_count": 12,
     "metadata": {},
     "output_type": "execute_result"
    }
   ],
   "source": [
    "y.dtypes"
   ]
  },
  {
   "cell_type": "code",
   "execution_count": 13,
   "id": "7c59b621-0e8a-4092-9426-cc79ff7532ae",
   "metadata": {},
   "outputs": [],
   "source": [
    "# Step 3: Split the data into training and test sets\n",
    "X_train, X_test, y_train, y_test = train_test_split(X, y, test_size=0.2, random_state=42)"
   ]
  },
  {
   "cell_type": "markdown",
   "id": "8db67a80-9db3-4179-8f13-d8dff6a73dc1",
   "metadata": {},
   "source": [
    "#### Preprocessing Pipelines"
   ]
  },
  {
   "cell_type": "code",
   "execution_count": 14,
   "id": "32a62685-359f-44cd-983f-2d9c4b3f6708",
   "metadata": {},
   "outputs": [],
   "source": [
    "# Step 4: Preprocessing for numerical data\n",
    "numerical_transformer = Pipeline(steps=[\n",
    "    ('scaler', StandardScaler())\n",
    "])\n",
    "\n",
    "# Step 5: Preprocessing for categorical data\n",
    "categorical_transformer = Pipeline(steps=[\n",
    "    ('onehot', OneHotEncoder(handle_unknown='ignore'))\n",
    "])\n",
    "\n",
    "# Step 6: Bundle preprocessing for numerical and categorical data\n",
    "preprocessor = ColumnTransformer(\n",
    "    transformers=[\n",
    "        ('num', numerical_transformer, numerical_features),\n",
    "        ('cat', categorical_transformer, categorical_features)\n",
    "])"
   ]
  },
  {
   "cell_type": "markdown",
   "id": "a05d457f-543c-4ba6-bf8f-13ab639bee6d",
   "metadata": {},
   "source": [
    "#### Trying out various Models"
   ]
  },
  {
   "cell_type": "code",
   "execution_count": 15,
   "id": "466ad545-9278-4de5-b30a-10ae7668b365",
   "metadata": {},
   "outputs": [],
   "source": [
    "# Define Models and Pipelines\n",
    "\n",
    "# --- Model 1: Logistic Regression ---\n",
    "lr_model = LogisticRegression(random_state=42, max_iter=1000, class_weight='balanced') \n",
    "lr_pipeline = Pipeline(steps=[\n",
    "    ('preprocessor', preprocessor),\n",
    "    ('model', lr_model)\n",
    "])\n",
    "\n",
    "# --- Model 2: Random Forest ---\n",
    "rf_model = RandomForestClassifier(random_state=42, class_weight='balanced') \n",
    "rf_pipeline = Pipeline(steps=[\n",
    "    ('preprocessor', preprocessor),\n",
    "    ('model', rf_model)\n",
    "])\n",
    "\n",
    "\n",
    "# --- Model 3: XGBoost ---\n",
    "xgb_model = XGBClassifier(objective='binary:logistic', random_state=42)\n",
    "xgb_pipeline = Pipeline(steps=[\n",
    "    ('preprocessor', preprocessor),\n",
    "    ('model', xgb_model)\n",
    "])\n",
    "\n",
    "# --- Model 4: Support Vector Classifier (SVC) ---\n",
    "svc_model = SVC(probability=True, random_state=42, class_weight='balanced')\n",
    "svc_pipeline = Pipeline(steps=[\n",
    "    ('preprocessor', preprocessor),\n",
    "    ('model', svc_model)\n",
    "])"
   ]
  },
  {
   "cell_type": "code",
   "execution_count": 16,
   "id": "5f642d00-882f-4d3d-91e0-d765db520f03",
   "metadata": {},
   "outputs": [],
   "source": [
    "# --- Model 5: Neural Network (TensorFlow Keras) ---\n",
    "\n",
    "def create_model(input_shape):\n",
    "    model = Sequential()\n",
    "    model.add(Input(shape=(input_shape,)))  # Input layer \n",
    "    model.add(Dense(64, activation='relu'))     # Hidden layer\n",
    "    model.add(Dense(1, activation='sigmoid'))  # Output layer for binary classification\n",
    "\n",
    "    model.compile(loss='binary_crossentropy', optimizer=Adam(), metrics=['accuracy'])\n",
    "    return model\n",
    "input_shape = preprocessor.fit_transform(X_train).shape[1]\n",
    "\n",
    "nn_model = KerasClassifier(model=create_model, input_shape=input_shape, epochs=50, batch_size=32, verbose=0)  \n",
    "nn_pipeline = Pipeline(steps=[\n",
    "    #('numeric', numeric_transformer_nn), #numeric transformer\n",
    "    #('categorical', categorical_transformer), #categorical transformer\n",
    "    ('preprocessor', preprocessor),\n",
    "    ('model', nn_model)\n",
    "])\n"
   ]
  },
  {
   "cell_type": "code",
   "execution_count": 17,
   "id": "b741cd6b-4a2f-4698-ad97-b64488dd8f33",
   "metadata": {},
   "outputs": [
    {
     "name": "stdout",
     "output_type": "stream",
     "text": [
      "\n",
      "--- Evaluating Logistic Regression with Cross-Validation ---\n",
      "\n",
      " Mean ROC-AUC: 0.8695\n",
      " Std ROC-AUC: 0.0093\n",
      " Accuracy: 0.7685\n",
      " Precision: 0.5247\n",
      " Recall: 0.8300\n",
      " F1-Score: 0.6429\n",
      "----------------------------------------\n",
      "\n",
      "--- Evaluating Random Forest with Cross-Validation ---\n",
      "\n",
      " Mean ROC-AUC: 0.8580\n",
      " Std ROC-AUC: 0.0078\n",
      " Accuracy: 0.8130\n",
      " Precision: 0.6647\n",
      " Recall: 0.5151\n",
      " F1-Score: 0.5801\n",
      "----------------------------------------\n",
      "\n",
      "--- Evaluating XGBoost with Cross-Validation ---\n",
      "\n",
      " Mean ROC-AUC: 0.8533\n",
      " Std ROC-AUC: 0.0090\n",
      " Accuracy: 0.8047\n",
      " Precision: 0.6252\n",
      " Recall: 0.5541\n",
      " F1-Score: 0.5874\n",
      "----------------------------------------\n",
      "\n",
      "--- Evaluating SVC with Cross-Validation ---\n",
      "\n",
      " Mean ROC-AUC: 0.8550\n",
      " Std ROC-AUC: 0.0071\n",
      " Accuracy: 0.7700\n",
      " Precision: 0.5267\n",
      " Recall: 0.8242\n",
      " F1-Score: 0.6427\n",
      "----------------------------------------\n",
      "\n",
      "--- Evaluating Neural Network (TensorFlow) with Cross-Validation ---\n",
      "\n",
      " Mean ROC-AUC: 0.8567\n",
      " Std ROC-AUC: 0.0121\n",
      " Accuracy: 0.8148\n",
      " Precision: 0.6261\n",
      " Recall: 0.5721\n",
      " F1-Score: 0.5994\n",
      "----------------------------------------\n"
     ]
    }
   ],
   "source": [
    "# --- Cross-Validation with Default Hyperparameters ---\n",
    "models = {\n",
    "    'Logistic Regression': lr_pipeline,\n",
    "    'Random Forest': rf_pipeline,\n",
    "    'XGBoost': xgb_pipeline,\n",
    "    'SVC': svc_pipeline,\n",
    "    'Neural Network (TensorFlow)': nn_pipeline\n",
    "}\n",
    "\n",
    "results = {}\n",
    "best_roc_auc_score = 0\n",
    "best_model_name = ''\n",
    "\n",
    "for name, model in models.items():\n",
    "    print(f\"\\n--- Evaluating {name} with Cross-Validation ---\\n\")\n",
    "\n",
    "    cv = StratifiedKFold(n_splits=5, shuffle=True, random_state=42)\n",
    "    scores = cross_val_score(model, X_train, y_train, cv=cv, scoring='roc_auc')\n",
    "\n",
    "    # Store the scores and other metrics in the results dictionary\n",
    "    results[name] = {\n",
    "        'Mean ROC-AUC': scores.mean(),\n",
    "        'Std ROC-AUC': scores.std(),\n",
    "        'Accuracy': cross_val_score(model, X_train, y_train, cv=cv, scoring='accuracy').mean(),\n",
    "        'Precision': cross_val_score(model, X_train, y_train, cv=cv, scoring='precision').mean(),\n",
    "        'Recall': cross_val_score(model, X_train, y_train, cv=cv, scoring='recall').mean(),\n",
    "        'F1-Score': cross_val_score(model, X_train, y_train, cv=cv, scoring='f1').mean()\n",
    "    }\n",
    "\n",
    "    # Corrected printing statements (access metrics from results dictionary)\n",
    "    print(f\" Mean ROC-AUC: {results[name]['Mean ROC-AUC']:.4f}\")\n",
    "    print(f\" Std ROC-AUC: {results[name]['Std ROC-AUC']:.4f}\")\n",
    "    print(f\" Accuracy: {results[name]['Accuracy']:.4f}\")\n",
    "    print(f\" Precision: {results[name]['Precision']:.4f}\")\n",
    "    print(f\" Recall: {results[name]['Recall']:.4f}\")\n",
    "    print(f\" F1-Score: {results[name]['F1-Score']:.4f}\")\n",
    "    print(\"-\" * 40)  # Separator"
   ]
  },
  {
   "cell_type": "code",
   "execution_count": 18,
   "id": "8c495de4-2b1c-49a6-9a66-25b7cbff10ad",
   "metadata": {},
   "outputs": [],
   "source": [
    "# Update the best model\n",
    "if scores.mean() > best_roc_auc_score:\n",
    "    best_roc_auc_score = scores.mean()\n",
    "    best_model = model\n",
    "    best_model_name = name"
   ]
  },
  {
   "cell_type": "code",
   "execution_count": 19,
   "id": "11fbb542-42b0-48d4-aa6d-a483b08101ac",
   "metadata": {},
   "outputs": [
    {
     "name": "stdout",
     "output_type": "stream",
     "text": [
      "\n",
      "--- Best Model Results ---\n",
      "\n",
      "Best Model: Neural Network (TensorFlow)\n",
      "Best ROC-AUC Score: 0.8567\n"
     ]
    }
   ],
   "source": [
    "print(\"\\n--- Best Model Results ---\\n\")\n",
    "print(f\"Best Model: {best_model_name}\")\n",
    "print(f\"Best ROC-AUC Score: {best_roc_auc_score:.4f}\")"
   ]
  },
  {
   "cell_type": "markdown",
   "id": "3f4d67ac-db87-4479-98a4-5a10a12af4d4",
   "metadata": {},
   "source": [
    "**ROC-AUC** (Receiver Operating Characteristic - Area Under the Curve) is the preferred metric for determining the best model, particularly due to the following reasons:\n",
    "\n",
    "1. **Class Imbalance**: Churn prediction often involves imbalanced datasets, where the number of customers who churn (positive class) is much smaller than those who don't (negative class). Accuracy can be misleading in such cases, as a model that always predicts \"no churn\" might still achieve high accuracy due to the dominance of the majority class. ROC-AUC is more robust to class imbalance, focusing on the model's ability to discriminate between classes across different thresholds.\n",
    "\n",
    "2. **Probability Calibration**:  ROC-AUC evaluates the model's ability to rank instances correctly based on their predicted probability of belonging to the positive class (churn). This is valuable for churn prediction because you might want to target customers with a high probability of churning for intervention or retention efforts.\n",
    "\n",
    "3. **Single Metric Comparison**: ROC-AUC provides a single summary statistic that allows for easy comparison between different models. This simplifies the model selection process when you have multiple models to choose from.\n",
    "\n",
    "4. **Sensitivity-Specificity Trade-off**: The ROC curve, on which AUC is based, visualizes the trade-off between true positive rate (sensitivity) and false positive rate (1-specificity) across different thresholds. This can be helpful in understanding the model's behavior and selecting an appropriate threshold for decision-making, depending on your business priorities (e.g., maximizing true positives vs. minimizing false positives).\n",
    "\n",
    "5. **Wide Applicability**: ROC-AUC is a versatile metric that can be used for various binary classification tasks, including those with imbalanced classes. It is well-established in the field of machine learning and provides a standard for comparing model performance."
   ]
  },
  {
   "cell_type": "markdown",
   "id": "05fb8bb2-d2ce-46a6-af55-2725db57dd6a",
   "metadata": {},
   "source": [
    "#### Testing out the two best Models"
   ]
  },
  {
   "cell_type": "code",
   "execution_count": 20,
   "id": "037e36bb-7b32-42d0-8dd5-2af76eb5f4e7",
   "metadata": {},
   "outputs": [],
   "source": [
    "# --- Model and Hyperparameter Definitions ---\n",
    "\n",
    "# --- Model 1: Random Forest ---\n",
    "rf_model1 = RandomForestClassifier(random_state=42)\n",
    "rf_param_dist = {\n",
    "    'model__n_estimators': randint(100, 500),\n",
    "    'model__max_depth': [None] + list(randint(10, 50).rvs(size=10)), \n",
    "    'model__min_samples_split': randint(2, 20),\n",
    "    'model__min_samples_leaf': randint(1, 10),\n",
    "    'model__max_features': ['sqrt', 'log2', None] + list(uniform(0.1, 0.9).rvs(size=5)),\n",
    "    'model__bootstrap': [True, False],\n",
    "}\n",
    "\n",
    "# Build the Random Forest pipeline\n",
    "rf_pipeline1 = Pipeline(steps=[\n",
    "    ('preprocessor', preprocessor),\n",
    "    ('model', rf_model1)\n",
    "])\n"
   ]
  },
  {
   "cell_type": "code",
   "execution_count": 21,
   "id": "e3dbbe0d-6b46-485f-a7c6-ac847ff216c1",
   "metadata": {},
   "outputs": [],
   "source": [
    "# --- Model 2: Neural Network (TensorFlow Keras) ---\n",
    "\n",
    "def create_model(learning_rate=0.001, input_dim=None):      \n",
    "    model = Sequential()\n",
    "    model.add(Input(shape=(input_shape,))) \n",
    "    model.add(Dense(10, activation='relu', input_dim=None))     \n",
    "    model.add(Dense(1, activation='sigmoid')) \n",
    "\n",
    "    model.compile(loss='binary_crossentropy', optimizer=Adam(learning_rate=learning_rate), metrics=['accuracy'])\n",
    "    return model\n",
    "\n",
    "\n",
    "nn_param_dist = {\n",
    "    'model__learning_rate': [0.001, 0.01] \n",
    "}\n"
   ]
  },
  {
   "cell_type": "code",
   "execution_count": 22,
   "id": "24a5a62d-922c-4140-bad0-b23fb7e3f409",
   "metadata": {},
   "outputs": [
    {
     "name": "stdout",
     "output_type": "stream",
     "text": [
      "\n",
      "--- Tuning Random Forest ---\n",
      "\n",
      "Fitting 5 folds for each of 10 candidates, totalling 50 fits\n",
      "\n",
      "--- Tuning Neural Network (lr=0.001) ---\n",
      "\n",
      "Fitting 5 folds for each of 1 candidates, totalling 5 fits\n",
      "\n",
      "--- Tuning Neural Network (lr=0.01) ---\n",
      "\n",
      "Fitting 5 folds for each of 1 candidates, totalling 5 fits\n"
     ]
    }
   ],
   "source": [
    "# --- Hyperparameter Tuning and Evaluation for each model ---\n",
    "\n",
    "pipelines_and_params = [\n",
    "    (rf_pipeline, rf_param_dist, 'Random Forest'),\n",
    "]\n",
    "\n",
    "scoring = ['roc_auc', 'accuracy', 'precision', 'recall', 'f1']\n",
    "refit_score = 'roc_auc'\n",
    "for lr in nn_param_dist['model__learning_rate']:  # Iterate over learning rates\n",
    "    # Create a new pipeline for each learning rate\n",
    "    nn_pipeline_with_lr = Pipeline([\n",
    "        ('preprocessor', preprocessor),\n",
    "        ('model', KerasClassifier(model=create_model, learning_rate=lr, epochs=50, batch_size=32, verbose=0))\n",
    "    ])\n",
    "    pipelines_and_params.append((nn_pipeline_with_lr, {}, 'Neural Network (lr={})'.format(lr)))\n",
    "\n",
    "# Dictionary to store best estimator and scores for each model\n",
    "best_estimators = {}\n",
    "all_results = {}\n",
    "\n",
    "for pipeline, param_grid, model_name in pipelines_and_params:\n",
    "    print(f\"\\n--- Tuning {model_name} ---\\n\")\n",
    "\n",
    "    # Use GridSearchCV for single parameters, RandomizedSearchCV for larger spaces\n",
    "    search = (\n",
    "        RandomizedSearchCV(\n",
    "            estimator=pipeline,\n",
    "            param_distributions=param_grid,\n",
    "            n_iter=10,\n",
    "            cv=5,\n",
    "            scoring=scoring,\n",
    "            refit=refit_score,\n",
    "            n_jobs=-1,\n",
    "            verbose=2,\n",
    "            random_state=42\n",
    "        )\n",
    "        if len(param_grid) > 1\n",
    "        else GridSearchCV(\n",
    "            estimator=pipeline,\n",
    "            param_grid=param_grid,\n",
    "            cv=5,\n",
    "            scoring=scoring,\n",
    "            refit=refit_score,\n",
    "            n_jobs=-1,\n",
    "            verbose=2,\n",
    "        )\n",
    "    )\n",
    "\n",
    "    # Fit the search (RandomizedSearchCV or GridSearchCV)\n",
    "    search.fit(X_train, y_train)\n",
    "    \n",
    "    # Store the best estimator and AUC score\n",
    "    best_estimators[model_name] = search.best_estimator_\n",
    "    all_results[model_name] = search.cv_results_"
   ]
  },
  {
   "cell_type": "code",
   "execution_count": 23,
   "id": "49bb4595-d53d-48b7-824e-b1d1de49bee6",
   "metadata": {},
   "outputs": [
    {
     "name": "stdout",
     "output_type": "stream",
     "text": [
      "\n",
      "Best Model is: Neural Network (lr=0.001) with mean roc_auc: 0.867\n",
      "\n",
      "[[934  98]\n",
      " [160 191]]\n",
      "              precision    recall  f1-score   support\n",
      "\n",
      "           0       0.85      0.91      0.88      1032\n",
      "           1       0.66      0.54      0.60       351\n",
      "\n",
      "    accuracy                           0.81      1383\n",
      "   macro avg       0.76      0.72      0.74      1383\n",
      "weighted avg       0.80      0.81      0.81      1383\n",
      "\n",
      "Accuracy: 0.8134490238611713\n"
     ]
    }
   ],
   "source": [
    "# --- Find and Evaluate the Best Model ---\n",
    "\n",
    "best_model_name = None\n",
    "best_model = None\n",
    "best_model_score = -1  # Initialize with a low value\n",
    "\n",
    "for model_name, results in all_results.items():\n",
    "    mean_score = results[f'mean_test_{refit_score}']\n",
    "    if mean_score.mean() > best_model_score:  # Compare mean scores\n",
    "        best_model_name = model_name\n",
    "        best_model = best_estimators[model_name]\n",
    "        best_model_score = mean_score.mean()  # Store mean score\n",
    "\n",
    "if best_model_name:\n",
    "    print(f\"\\nBest Model is: {best_model_name} with mean {refit_score}: {best_model_score.mean():.3f}\\n\")\n",
    "\n",
    "\n",
    "    # Make predictions on the test set using the best model\n",
    "    y_pred = best_model.predict(X_test)\n",
    "\n",
    "    # Evaluate the best model\n",
    "    print(confusion_matrix(y_test, y_pred))\n",
    "    print(classification_report(y_test, y_pred))\n",
    "    print(\"Accuracy:\", accuracy_score(y_test, y_pred))\n",
    "else:\n",
    "    print(\"No suitable model found during hyperparameter tuning.\")\n"
   ]
  },
  {
   "cell_type": "markdown",
   "id": "e14f8eec-a09c-4e50-921d-226e91476e17",
   "metadata": {},
   "source": [
    "#### Selecting and Evaluating the best Models"
   ]
  },
  {
   "cell_type": "code",
   "execution_count": 24,
   "id": "86ad89e0-1ca1-450c-8f3d-48d52611199d",
   "metadata": {},
   "outputs": [],
   "source": [
    "# --- Train and Evaluate the Best Neural Network Model ---\n",
    "best_nn_model_name = next(name for name in best_estimators.keys() if 'Neural Network' in name)\n",
    "best_nn_model = best_estimators[best_model_name]\n",
    "\n",
    "# Fit the best NN model on all training data\n",
    "best_nn_model.fit(X_train, y_train)  # Train the model on the full training set (not just within CV)\n",
    "\n",
    "# Access the history from the trained KerasClassifier model\n",
    "history = best_nn_model.named_steps['model'].model_.history "
   ]
  },
  {
   "cell_type": "code",
   "execution_count": 25,
   "id": "acb212a7-1d69-4618-87cc-b53d64447b69",
   "metadata": {},
   "outputs": [
    {
     "name": "stdout",
     "output_type": "stream",
     "text": [
      "Models have been saved.\n"
     ]
    }
   ],
   "source": [
    "# After evaluation\n",
    "\n",
    "# Save the Random Forest model\n",
    "joblib.dump(best_estimators['Random Forest'], 'random_forest_model.joblib')\n",
    "\n",
    "# Save the best Neural Network model\n",
    "best_nn_model.named_steps['model'].model_.save('neural_network_model.keras')\n",
    "\n",
    "print(\"Models have been saved.\")"
   ]
  },
  {
   "cell_type": "code",
   "execution_count": 26,
   "id": "b471f105-d87e-4400-836a-c471b74ac42c",
   "metadata": {},
   "outputs": [
    {
     "name": "stdout",
     "output_type": "stream",
     "text": [
      "Preprocessor have been saved\n"
     ]
    }
   ],
   "source": [
    "# Save the preprocessor\n",
    "joblib.dump(preprocessor, 'data_preprocessor.joblib')\n",
    "\n",
    "print(\"Preprocessor have been saved\")"
   ]
  },
  {
   "cell_type": "code",
   "execution_count": 27,
   "id": "b13fd93a-94d6-4e5e-876c-c8ed129d664d",
   "metadata": {},
   "outputs": [
    {
     "data": {
      "image/png": "[encoded data removed]",
      "text/plain": [
       "<Figure size 1000x800 with 1 Axes>"
      ]
     },
     "metadata": {},
     "output_type": "display_data"
    }
   ],
   "source": [
    "# --- Plot ROC Curves for All Models using the Full Training Set ---\n",
    "\n",
    "plt.figure(figsize=(10, 8))\n",
    "plt.plot([0, 1], [0, 1], color='navy', lw=2, linestyle='--', label='Random Guess')\n",
    "\n",
    "for model_name, results in all_results.items():\n",
    "    best_model = best_estimators[model_name]\n",
    "    # Get predicted probabilities for positive class using the full training set\n",
    "    y_proba = best_model.predict_proba(X_train)[:, 1]  # Predict on X_train\n",
    "    fpr, tpr, thresholds = roc_curve(y_train, y_proba)  # Use y_train\n",
    "    roc_auc = auc(fpr, tpr)\n",
    "    plt.plot(fpr, tpr, lw=2, label=f'{model_name} (AUC = {roc_auc:.2f})')\n",
    "\n",
    "plt.xlim([0.0, 1.0])\n",
    "plt.ylim([0.0, 1.05])\n",
    "plt.xlabel('False Positive Rate')\n",
    "plt.ylabel('True Positive Rate')\n",
    "plt.title('Receiver Operating Characteristic (ROC) Curves')\n",
    "plt.legend(loc=\"lower right\")\n",
    "plt.grid(axis='both', linestyle='--')\n",
    "plt.show()"
   ]
  },
  {
   "cell_type": "code",
   "execution_count": null,
   "id": "306223fa-6cea-409b-93bd-dcbe3689982c",
   "metadata": {},
   "outputs": [],
   "source": []
  },
  {
   "cell_type": "markdown",
   "id": "d9a5ccb9-cb36-41ed-8cdf-8af29a1bca0e",
   "metadata": {},
   "source": [
    "**Best Model:**\n",
    "\n",
    "* **Neural Network:** This indicates that among the models and hyperparameters tested, the Neural Network with a learning rate of 0.001 performed the best. \n",
    "* **Mean ROC AUC:** The average ROC AUC across different cross-validation folds is 0.866. This is a good score, indicating the model has a strong ability to distinguish between the two classes in your data.\n",
    "\n",
    "**Confusion Matrix:**\n",
    "* **True Negatives (TN):** 956 instances of the negative class were correctly predicted as negative.\n",
    "* **False Positives (FP):** 76 instances were incorrectly predicted as negative when they were actually positive.\n",
    "* **False Negatives (FN):** 182 instances were incorrectly predicted as positive when they were actually negative.\n",
    "* **True Positives (TP):** 169 instances of the positive class were correctly predicted as positive.\n",
    "\n",
    "**Classification Report:**\n",
    "* **Precision (Class 0):** 84% of instances predicted as negative were actually negative.\n",
    "* **Recall (Class 0):** 93% of all actual negative instances were correctly identified.\n",
    "* **F1-Score (Class 0):** 0.88 represents a good balance between precision and recall for the negative class.\n",
    "* **Precision (Class 1):** 69% of instances predicted as positive were actually positive.\n",
    "* **Recall (Class 1):** 48% of all actual positive instances were correctly identified.\n",
    "* **F1-Score (Class 1):** 0.57 represents a moderate balance between precision and recall for the positive class.\n",
    "\n",
    "**Overall Accuracy:**\n",
    "* **Accuracy:** The model correctly classified 81.3% of all instances.\n",
    "\n",
    "**Areas for Improvement:**\n",
    "* **Class Imbalance:** There seems to be some class imbalance, evident from the lower recall for class 1. Consider addressing this using techniques like resampling (oversampling or undersampling) or assigning class weights.\n",
    "* **Further Hyperparameter Tuning:** You could potentially improve performance by exploring a wider range of hyperparameters for the neural network, such as different numbers of layers, neurons per layer, or activation functions.\n",
    "* **More Training Data:** If possible, collecting more data (especially for the minority class) can often lead to better model performance."
   ]
  },
  {
   "cell_type": "markdown",
   "id": "84f15edb-048c-4a6d-8bee-084df8a1cc2a",
   "metadata": {},
   "source": [
    "### GUI (Tkinter)"
   ]
  },
  {
   "cell_type": "code",
   "execution_count": 28,
   "id": "12d3eb91-adf3-4153-a5d1-447f19e30174",
   "metadata": {},
   "outputs": [],
   "source": [
    "# Step 1: Load necessary libraries\n",
    "import os\n",
    "import tkinter as tk\n",
    "from tkinter import messagebox\n",
    "import numpy as np\n",
    "import tensorflow as tf\n",
    "from tensorflow.keras.models import load_model  # type: ignore\n",
    "from sklearn.pipeline import Pipeline"
   ]
  },
  {
   "cell_type": "code",
   "execution_count": 29,
   "id": "44a9b16e-4f7b-4dbd-b502-8f23acb16540",
   "metadata": {},
   "outputs": [],
   "source": [
    "# Step 2: Load the preprocessor\n",
    "preprocessor_path = 'data_preprocessor.joblib'\n",
    "if not os.path.exists(preprocessor_path):\n",
    "    print(f\"Preprocessor file not found at: {preprocessor_path}\")\n",
    "    preprocessor = None\n",
    "else:\n",
    "    preprocessor = joblib.load(preprocessor_path)\n",
    "\n",
    "# Step 3: Load the best model\n",
    "model_path = 'neural_network_model.keras'\n",
    "if not os.path.exists(model_path):\n",
    "    print(f\"Model file not found at: {model_path}\")\n",
    "    best_nn_model = None\n",
    "else:\n",
    "    best_nn_model = load_model(model_path)\n"
   ]
  },
  {
   "cell_type": "code",
   "execution_count": 34,
   "id": "c4d4e281-aae1-4237-9b05-e1b45a4aae17",
   "metadata": {},
   "outputs": [],
   "source": [
    "# Step 4: Define the function to predict\n",
    "def predict():\n",
    "    if preprocessor is None or best_nn_model is None:\n",
    "        messagebox.showerror(\"Error\", \"Model or preprocessor not loaded.\")\n",
    "        return\n",
    "    \n",
    "    try:\n",
    "        # Collect input data\n",
    "        input_data = [\n",
    "            float(entry_tenure.get()),\n",
    "            float(entry_monthly_charges.get()),\n",
    "            float(entry_total_charges.get()),\n",
    "            entry_gender.get(),\n",
    "            int(entry_senior_citizen.get()),\n",
    "            entry_partner.get(),\n",
    "            entry_dependents.get(),\n",
    "            entry_phone_service.get(),\n",
    "            entry_multiple_lines.get(),\n",
    "            entry_internet_service.get(),\n",
    "            entry_online_security.get(),\n",
    "            entry_online_backup.get(),\n",
    "            entry_device_protection.get(),\n",
    "            entry_tech_support.get(),\n",
    "            entry_streaming_tv.get(),\n",
    "            entry_streaming_movies.get(),\n",
    "            entry_contract.get(),\n",
    "            entry_paperless_billing.get(),\n",
    "            entry_payment_method.get()\n",
    "        ]\n",
    "        \n",
    "        # Preprocess the input data\n",
    "        input_df = pd.DataFrame([input_data], columns=[\n",
    "            'tenure', 'MonthlyCharges', 'TotalCharges',\n",
    "            'gender', 'SeniorCitizen', 'Partner', 'Dependents', 'PhoneService', \n",
    "            'MultipleLines', 'InternetService', 'OnlineSecurity', 'OnlineBackup', \n",
    "            'DeviceProtection', 'TechSupport', 'StreamingTV', 'StreamingMovies', \n",
    "            'Contract', 'PaperlessBilling', 'PaymentMethod'\n",
    "        ])\n",
    "        processed_input = preprocessor.transform(input_df)  # Apply the preprocessor\n",
    "\n",
    "        # Make prediction\n",
    "        prediction = best_nn_model.predict(processed_input)\n",
    "        churn_probability = prediction[0][0]  # Extract the prediction value\n",
    "        churn_comment = \"High likelihood of leaving\" if churn_probability > 0.5 else \"Low likelihood of leaving\"\n",
    "        # Calculate discount only for those likely to churn\n",
    "        if churn_probability > 0.5:\n",
    "            discount_percentage = min(churn_probability * 20, 20)  # Cap the discount at 20%\n",
    "        else:\n",
    "            discount_percentage = 0  # No discount for low likelihood of churn\n",
    "\n",
    "        # Display the results\n",
    "        messagebox.showinfo(\"Prediction\", f\"Predicted value: {churn_probability:.2f}\\n\"\n",
    "                                          f\"Comment: {churn_comment}\\n\"\n",
    "                                          f\"Recommended discount: {discount_percentage:.2f}%\")\n",
    "    \n",
    "    except Exception as e:\n",
    "        messagebox.showerror(\"Error\", str(e))\n"
   ]
  },
  {
   "cell_type": "code",
   "execution_count": 35,
   "id": "2992639c-14fa-42ef-b8be-a72f08b363f3",
   "metadata": {},
   "outputs": [
    {
     "name": "stdout",
     "output_type": "stream",
     "text": [
      "\u001b[1m1/1\u001b[0m \u001b[32m━━━━━━━━━━━━━━━━━━━━\u001b[0m\u001b[37m\u001b[0m \u001b[1m0s\u001b[0m 91ms/step\n",
      "\u001b[1m1/1\u001b[0m \u001b[32m━━━━━━━━━━━━━━━━━━━━\u001b[0m\u001b[37m\u001b[0m \u001b[1m0s\u001b[0m 76ms/step\n",
      "\u001b[1m1/1\u001b[0m \u001b[32m━━━━━━━━━━━━━━━━━━━━\u001b[0m\u001b[37m\u001b[0m \u001b[1m0s\u001b[0m 55ms/step\n",
      "\u001b[1m1/1\u001b[0m \u001b[32m━━━━━━━━━━━━━━━━━━━━\u001b[0m\u001b[37m\u001b[0m \u001b[1m0s\u001b[0m 88ms/step\n",
      "\u001b[1m1/1\u001b[0m \u001b[32m━━━━━━━━━━━━━━━━━━━━\u001b[0m\u001b[37m\u001b[0m \u001b[1m0s\u001b[0m 85ms/step\n",
      "\u001b[1m1/1\u001b[0m \u001b[32m━━━━━━━━━━━━━━━━━━━━\u001b[0m\u001b[37m\u001b[0m \u001b[1m0s\u001b[0m 61ms/step\n",
      "\u001b[1m1/1\u001b[0m \u001b[32m━━━━━━━━━━━━━━━━━━━━\u001b[0m\u001b[37m\u001b[0m \u001b[1m0s\u001b[0m 40ms/step\n",
      "\u001b[1m1/1\u001b[0m \u001b[32m━━━━━━━━━━━━━━━━━━━━\u001b[0m\u001b[37m\u001b[0m \u001b[1m0s\u001b[0m 61ms/step\n",
      "\u001b[1m1/1\u001b[0m \u001b[32m━━━━━━━━━━━━━━━━━━━━\u001b[0m\u001b[37m\u001b[0m \u001b[1m0s\u001b[0m 86ms/step\n",
      "\u001b[1m1/1\u001b[0m \u001b[32m━━━━━━━━━━━━━━━━━━━━\u001b[0m\u001b[37m\u001b[0m \u001b[1m0s\u001b[0m 102ms/step\n",
      "\u001b[1m1/1\u001b[0m \u001b[32m━━━━━━━━━━━━━━━━━━━━\u001b[0m\u001b[37m\u001b[0m \u001b[1m0s\u001b[0m 48ms/step\n",
      "\u001b[1m1/1\u001b[0m \u001b[32m━━━━━━━━━━━━━━━━━━━━\u001b[0m\u001b[37m\u001b[0m \u001b[1m0s\u001b[0m 66ms/step\n"
     ]
    }
   ],
   "source": [
    "# Step 5: Create the main window\n",
    "root = tk.Tk()\n",
    "root.title(\"Telco Customer Churn Prediction\")\n",
    "root.configure(bg='black')\n",
    "\n",
    "# Create input fields\n",
    "labels = [\n",
    "    \"Tenure (months)\", \"Monthly Charges ($)\", \"Total Charges ($)\",\n",
    "    \"Gender (Male/Female)\", \"Senior Citizen (1/0)\", \"Partner (Yes/No)\",\n",
    "    \"Dependents (Yes/No)\", \"Phone Service (Yes/No)\", \"Multiple Lines (Yes/No/No phone service)\",\n",
    "    \"Internet Service (DSL/Fiber optic/No)\", \"Online Security (Yes/No/No internet service)\",\n",
    "    \"Online Backup (Yes/No/No internet service)\", \"Device Protection (Yes/No/No internet service)\",\n",
    "    \"Tech Support (Yes/No/No internet service)\", \"Streaming TV (Yes/No/No internet service)\",\n",
    "    \"Streaming Movies (Yes/No/No internet service)\", \"Contract (Month-to-month/One year/Two year)\",\n",
    "    \"Paperless Billing (Yes/No)\", \"Payment Method (Electronic check/Mailed check/Bank transfer(automatic)/Credit card(automatic))\"\n",
    "]\n",
    "\n",
    "entries = {}\n",
    "for label in labels:\n",
    "    frame = tk.Frame(root, bg='black')\n",
    "    frame.pack(pady=5, anchor='w')\n",
    "    lbl = tk.Label(frame, text=label, bg='black', fg='white')\n",
    "    lbl.pack(side=tk.LEFT)\n",
    "    entry = tk.Entry(frame, bg='darkgray', fg='black')\n",
    "    entry.pack(side=tk.RIGHT)\n",
    "    entries[label] = entry\n",
    "\n",
    "# Assign entries to variables\n",
    "(entry_tenure, entry_monthly_charges, entry_total_charges,\n",
    " entry_gender, entry_senior_citizen, entry_partner,\n",
    " entry_dependents, entry_phone_service, entry_multiple_lines,\n",
    " entry_internet_service, entry_online_security, entry_online_backup,\n",
    " entry_device_protection, entry_tech_support, entry_streaming_tv,\n",
    " entry_streaming_movies, entry_contract, entry_paperless_billing,\n",
    " entry_payment_method) = [entries[label] for label in labels]\n",
    "\n",
    "# Create a predict button\n",
    "btn_predict = tk.Button(root, text=\"Predict\", command=predict, bg='gray', fg='white')\n",
    "btn_predict.pack(pady=20)\n",
    "\n",
    "# Run the application\n",
    "root.mainloop()"
   ]
  },
  {
   "cell_type": "code",
   "execution_count": null,
   "id": "4e2ef2a5-87e5-453c-9c09-e874269a18b9",
   "metadata": {},
   "outputs": [],
   "source": []
  },
  {
   "cell_type": "code",
   "execution_count": null,
   "id": "0d32dc21-f07a-4453-927d-0adb796632cf",
   "metadata": {},
   "outputs": [],
   "source": []
  }
 ],
 "metadata": {
  "kernelspec": {
   "display_name": "Python 3 (ipykernel)",
   "language": "python",
   "name": "python3"
  },
  "language_info": {
   "codemirror_mode": {
    "name": "ipython",
    "version": 3
   },
   "file_extension": ".py",
   "mimetype": "text/x-python",
   "name": "python",
   "nbconvert_exporter": "python",
   "pygments_lexer": "ipython3",
   "version": "3.12.4"
  }
 },
 "nbformat": 4,
 "nbformat_minor": 5
}
